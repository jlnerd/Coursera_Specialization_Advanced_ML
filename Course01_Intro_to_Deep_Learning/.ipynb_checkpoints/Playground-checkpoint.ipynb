{
 "cells": [
  {
   "cell_type": "code",
   "execution_count": 8,
   "metadata": {},
   "outputs": [
    {
     "name": "stdout",
     "output_type": "stream",
     "text": [
      "[0.6037489  0.03005889 0.36619222]\n"
     ]
    }
   ],
   "source": [
    "import numpy as np\n",
    "\n",
    "def softmax(x):\n",
    "    \"\"\"Compute softmax values for each sets of scores in x.\"\"\"\n",
    "    e_x = np.exp(x - np.max(x))\n",
    "    return e_x / e_x.sum()\n",
    "\n",
    "array = [1, (-2), 0.5];\n",
    "print(softmax(array))"
   ]
  },
  {
   "cell_type": "markdown",
   "metadata": {},
   "source": [
    "### Classifier Metrics Calculator"
   ]
  },
  {
   "cell_type": "code",
   "execution_count": 56,
   "metadata": {},
   "outputs": [],
   "source": [
    "import numpy as np\n",
    "\n",
    "def classifier_metrics(input_array,total_examples):\n",
    "    true_positives=input_array[0,0];\n",
    "    false_positives=input_array[0,1];\n",
    "    \n",
    "    true_negatives=input_array[1,0];\n",
    "    false_negatives=input_array[1,1];\n",
    "    \n",
    "    accuracy =(true_positives + true_negatives) / (total_examples)\n",
    "    precision = (true_positives) / (true_positives + false_positives)\n",
    "    recall = (true_positives) / (true_positives + false_negatives)\n",
    "    F1_score = (2 * precision * recall) / (precision + recall)\n",
    "    \n",
    "    print(\"accuracy = \", accuracy,\"\\n\",\n",
    "          \"precision = \",precision,\"\\n\",\n",
    "          \"recall = \", recall,'\\n',\n",
    "         \"F1_score = \",F1_score)\n",
    "    return [accuracy,precision,recall,F1_score]\n",
    "    \n",
    "input_array=np.array([[85,890],[15,10]]);\n",
    "total_examples = 1000"
   ]
  },
  {
   "cell_type": "code",
   "execution_count": 57,
   "metadata": {},
   "outputs": [
    {
     "name": "stdout",
     "output_type": "stream",
     "text": [
      "accuracy =  0.1 \n",
      " precision =  0.08717948717948718 \n",
      " recall =  0.8947368421052632 \n",
      " F1_score =  0.1588785046728972\n",
      "[0.1, 0.08717948717948718, 0.8947368421052632, 0.1588785046728972]\n"
     ]
    }
   ],
   "source": [
    "print(classifier_metrics(input_array,total_examples))"
   ]
  },
  {
   "cell_type": "code",
   "execution_count": null,
   "metadata": {},
   "outputs": [],
   "source": []
  }
 ],
 "metadata": {
  "kernelspec": {
   "display_name": "Python 3",
   "language": "python",
   "name": "python3"
  },
  "language_info": {
   "codemirror_mode": {
    "name": "ipython",
    "version": 3
   },
   "file_extension": ".py",
   "mimetype": "text/x-python",
   "name": "python",
   "nbconvert_exporter": "python",
   "pygments_lexer": "ipython3",
   "version": "3.6.5"
  }
 },
 "nbformat": 4,
 "nbformat_minor": 2
}
