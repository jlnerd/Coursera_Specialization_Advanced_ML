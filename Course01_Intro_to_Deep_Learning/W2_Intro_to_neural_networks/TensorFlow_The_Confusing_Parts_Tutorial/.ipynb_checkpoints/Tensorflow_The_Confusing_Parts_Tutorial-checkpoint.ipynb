{
 "cells": [
  {
   "cell_type": "markdown",
   "metadata": {},
   "source": [
    "## Tensorflow: The Confusing Parts (1)\n",
    "\n",
    "http://jacobbuckman.com/post/tensorflow-the-confusing-parts-1/\n",
    "\n",
    "First, let's define a simple tensor flow node, defining it as a constant"
   ]
  },
  {
   "cell_type": "code",
   "execution_count": 4,
   "metadata": {},
   "outputs": [
    {
     "name": "stdout",
     "output_type": "stream",
     "text": [
      "Tensor(\"Const_2:0\", shape=(), dtype=int32)\n"
     ]
    }
   ],
   "source": [
    "import tensorflow as tf\n",
    "two_node = tf.constant(2)\n",
    "\n",
    "print (two_node)\n"
   ]
  },
  {
   "cell_type": "markdown",
   "metadata": {},
   "source": [
    "Now let's try a simple summation of two nodes"
   ]
  },
  {
   "cell_type": "code",
   "execution_count": 8,
   "metadata": {},
   "outputs": [],
   "source": [
    "import tensorflow as tf\n",
    "two_node = tf.constant(2)\n",
    "three_node = tf.constant(3)\n",
    "\n",
    "sum_node = two_node + three_node"
   ]
  },
  {
   "cell_type": "markdown",
   "metadata": {},
   "source": [
    "Next we initialize a session. The role of the session is to handle the memory allocation and optimization to actually perform the computations specified by a computational graph\n",
    "\n",
    "In order to do any computation in TensorFlow you need both a graph and a session"
   ]
  },
  {
   "cell_type": "code",
   "execution_count": 10,
   "metadata": {},
   "outputs": [
    {
     "name": "stdout",
     "output_type": "stream",
     "text": [
      "5\n"
     ]
    }
   ],
   "source": [
    "import tensorflow as tf\n",
    "\n",
    "# Define computation nodes\n",
    "two_node = tf.constant(2)\n",
    "three_node - tf.constant(3)\n",
    "sum_node = two_node + three_node\n",
    "\n",
    "# Define session\n",
    "s = tf.Session()\n",
    "\n",
    "print (s.run(sum_node))"
   ]
  },
  {
   "cell_type": "markdown",
   "metadata": {},
   "source": [
    "We can also pass a list and get multiple outputs"
   ]
  },
  {
   "cell_type": "code",
   "execution_count": 12,
   "metadata": {},
   "outputs": [
    {
     "name": "stdout",
     "output_type": "stream",
     "text": [
      "[2, 3, 5]\n"
     ]
    }
   ],
   "source": [
    "print(s.run([two_node, three_node, sum_node]))"
   ]
  },
  {
   "cell_type": "markdown",
   "metadata": {},
   "source": [
    "In general, sess.run() calls tend to be one of the biggest TensorFlow bottlenecks, so the fewer times you call it, the better. Whenever possible, return multiple items in a single s.run() call instead of making multiple calls"
   ]
  },
  {
   "cell_type": "markdown",
   "metadata": {},
   "source": [
    "#### Placeholders & feed_dict"
   ]
  },
  {
   "cell_type": "markdown",
   "metadata": {},
   "source": [
    "A placeholder is a type of node that is designed to accept external input"
   ]
  },
  {
   "cell_type": "code",
   "execution_count": 15,
   "metadata": {},
   "outputs": [
    {
     "name": "stdout",
     "output_type": "stream",
     "text": [
      "2\n"
     ]
    }
   ],
   "source": [
    "import tensorflow as tf\n",
    "input_placeholder = tf.placeholder(tf.int32)\n",
    "\n",
    "sess = tf.Session()\n",
    "\n",
    "print (sess.run(input_placeholder, feed_dict = {input_placeholder:2}))"
   ]
  },
  {
   "cell_type": "markdown",
   "metadata": {},
   "source": [
    "Notice we use feed_dict to assign an initial value to the placeholder"
   ]
  },
  {
   "cell_type": "markdown",
   "metadata": {},
   "source": [
    "### Variables & Side Effects\n",
    "So far, we've seen two type of \"no-ancestor\" nodes: tf.constant, which is the same for every run, and tf.placeholder, which is different for every run. there's a third case that we often want to consider: a node which generally has the same value between runs, but can also be updated to have a new value. There's where variables come in\n",
    "\n",
    "Understanding variables is essential to doing deep learning with TensorFlow, because the parameters of your model fall into this category. During training, you want to update your parameters at every step, via gradient descent; but during evaluation, you want to keep yur parameters fixed, and pass a bunch of different test-set inputs into the model. More than likely, all your model's trainable parameters will be implemented as variables.\n",
    "\n",
    "To create variables, use tf.get_variable(). The first two argument to tf.get_variable() are required, the rest are optional. They are tf.get_variable(name,shape). name is a string which uniquely identifies this variable object. It must be a unique relative to the global graph, so be careful to keep track of all name you have used to ensure there are no duplicates. shape is an array of integers coresponding to the shape of a tensore; the syntax of this is intuitive - just on integer per dimension, in order. For example, a 3x8 matrix would have shape [3,8] . To create a scalar, use an empty list as your shape: []\n",
    "\n",
    "There are two main ways to put a value into a variable: initializers and tf.assign(). Let's look at tf.assign() first"
   ]
  },
  {
   "cell_type": "code",
   "execution_count": 19,
   "metadata": {},
   "outputs": [
    {
     "name": "stdout",
     "output_type": "stream",
     "text": [
      "0.0\n"
     ]
    }
   ],
   "source": [
    "import tensorflow as tf\n",
    "\n",
    "tf.reset_default_graph()\n",
    "\n",
    "count_variable = tf.get_variable(\"count\",[])\n",
    "\n",
    "zero_node = tf.constant(0.)\n",
    "\n",
    "assign_node = tf.assign(count_variable,zero_node)\n",
    "\n",
    "sess = tf.Session()\n",
    "\n",
    "sess.run(assign_node)\n",
    "\n",
    "print (sess.run(count_variable))"
   ]
  },
  {
   "cell_type": "markdown",
   "metadata": {},
   "source": [
    "Next, let's look at initializers"
   ]
  },
  {
   "cell_type": "code",
   "execution_count": 26,
   "metadata": {},
   "outputs": [
    {
     "data": {
      "text/plain": [
       "[0.0]"
      ]
     },
     "execution_count": 26,
     "metadata": {},
     "output_type": "execute_result"
    }
   ],
   "source": [
    "import tensorflow as tf\n",
    "\n",
    "tf.reset_default_graph()\n",
    "\n",
    "const_init_node = tf.constant_initializer(0.)\n",
    "count_variable=tf.get_variable(\"count\",[],initializer = const_init_node)\n",
    "\n",
    "#initializer the global variables to ensure the constant is initialized in the count_variable node\n",
    "init = tf.global_variables_initializer()\n",
    "\n",
    "sess = tf.Session()\n",
    "\n",
    "#run sessions\n",
    "sess.run(init)\n",
    "\n",
    "sess.run([count_variable])"
   ]
  },
  {
   "cell_type": "markdown",
   "metadata": {},
   "source": [
    "tf.global_variables_initializer() is similar to tf.assign(), in that it has side effects. However, in contrast to tf.assign(), tf.global_variables_initializer does not require us to specify the assignment of the variables (it's global)"
   ]
  },
  {
   "cell_type": "markdown",
   "metadata": {},
   "source": [
    "### Optimizers\n",
    "\n",
    "Let's put togetehr a quick script for a toy linear regression problem"
   ]
  },
  {
   "cell_type": "code",
   "execution_count": 35,
   "metadata": {},
   "outputs": [
    {
     "name": "stdout",
     "output_type": "stream",
     "text": [
      "0 0.2267081\n",
      "100 0.09295136\n",
      "200 0.06707902\n",
      "300 0.03782764\n",
      "400 0.02834845\n",
      "500 0.01673932\n",
      "600 0.010163039\n",
      "700 0.0064883623\n",
      "800 0.004092988\n",
      "900 0.0020381252\n",
      "1000 0.00088748935\n",
      "1100 0.001305199\n",
      "1200 0.00047190953\n",
      "1300 0.00082688313\n",
      "1400 0.00047270878\n",
      "1500 3.3956803e-06\n",
      "1600 4.2683165e-05\n",
      "1700 0.00036797073\n",
      "1800 0.00014446802\n",
      "1900 6.6944944e-05\n",
      "2000 1.0545285e-05\n",
      "2100 0.00031091186\n",
      "2200 2.4381847e-05\n",
      "2300 7.583342e-07\n",
      "2400 6.450862e-09\n",
      "2500 0.00018282914\n",
      "2600 1.3471357e-05\n",
      "2700 7.2267896e-05\n",
      "2800 6.9079433e-06\n",
      "2900 1.0998723e-05\n",
      "3000 3.4072582e-05\n",
      "3100 6.281768e-06\n",
      "3200 6.33719e-05\n",
      "3300 0.00011327356\n",
      "3400 4.404472e-05\n",
      "3500 9.876093e-06\n",
      "3600 7.063701e-05\n",
      "3700 2.151617e-05\n",
      "3800 4.36146e-05\n",
      "3900 6.562212e-05\n",
      "4000 0.00011138032\n",
      "4100 1.18419575e-05\n",
      "4200 5.7335565e-05\n",
      "4300 4.4996013e-05\n",
      "4400 4.1963864e-05\n",
      "4500 8.1139595e-05\n",
      "4600 4.0144562e-07\n",
      "4700 1.3892909e-06\n",
      "4800 5.874195e-06\n",
      "4900 1.3753721e-07\n",
      "5000 9.353104e-06\n",
      "5100 4.751645e-05\n",
      "5200 5.9505733e-06\n",
      "5300 1.3627571e-05\n",
      "5400 2.2317402e-06\n",
      "5500 6.8655536e-06\n",
      "5600 8.761881e-05\n",
      "5700 7.48757e-05\n",
      "5800 9.073051e-06\n",
      "5900 4.216411e-05\n",
      "6000 1.6827069e-05\n",
      "6100 6.288649e-05\n",
      "6200 2.231384e-06\n",
      "6300 6.1270075e-05\n",
      "6400 3.4474995e-06\n",
      "6500 5.825542e-05\n",
      "6600 2.001422e-08\n",
      "6700 2.4094563e-05\n",
      "6800 6.1229375e-06\n",
      "6900 6.890841e-05\n",
      "7000 4.1909825e-05\n",
      "7100 6.474593e-08\n",
      "7200 1.50765645e-05\n",
      "7300 1.9671894e-05\n",
      "7400 3.8618153e-05\n",
      "7500 6.7486108e-06\n",
      "7600 3.844389e-05\n",
      "7700 1.3712857e-05\n",
      "7800 2.6655807e-06\n",
      "7900 1.0876506e-05\n",
      "8000 2.3132998e-05\n",
      "8100 1.275228e-05\n",
      "8200 1.3682195e-05\n",
      "8300 3.4571927e-05\n",
      "8400 1.7130878e-05\n",
      "8500 6.236733e-06\n",
      "8600 6.2789295e-06\n",
      "8700 2.0710999e-05\n",
      "8800 2.7038435e-05\n",
      "8900 1.7585564e-05\n",
      "9000 3.073667e-05\n",
      "9100 1.1512711e-06\n",
      "9200 2.348869e-05\n",
      "9300 1.6035173e-08\n",
      "9400 8.797254e-06\n",
      "9500 2.3896414e-06\n",
      "9600 9.367328e-06\n",
      "9700 3.825648e-06\n",
      "9800 1.2797635e-06\n",
      "9900 4.1796454e-07\n",
      "True parameters:     m=0.1471, b=0.3814\n",
      "Learned parameters:  m=0.1576, b=0.3758\n"
     ]
    }
   ],
   "source": [
    "import tensorflow as tf\n",
    "\n",
    "#reset default graph\n",
    "tf.reset_default_graph()\n",
    "\n",
    "# Build the graph\n",
    "## first set up the parameters\n",
    "m=tf.get_variable(\"m\",[],initializer=tf.constant_initializer(0.))\n",
    "b=tf.get_variable(\"b\",[],initializer = tf.constant_initializer(0.))\n",
    "\n",
    "## Setup the computations\n",
    "input_placeholder = tf.placeholder(tf.float32)\n",
    "output_placeholder = tf.placeholder(tf.float32)\n",
    "\n",
    "x = input_placeholder\n",
    "y = output_placeholder\n",
    "y_guess = m*x+b\n",
    "\n",
    "loss = tf.square(y-y_guess)\n",
    "\n",
    "## Setup the optimizer and minimization node\n",
    "optimizer = tf.train.GradientDescentOptimizer(1e-3)\n",
    "train_op = optimizer.minimize(loss)\n",
    "\n",
    "## Define global variables initializer\n",
    "init = tf.global_variables_initializer()\n",
    "\n",
    "## Start the session\n",
    "\n",
    "sess = tf.Session()\n",
    "sess.run (init)\n",
    "\n",
    "### perform training loop\n",
    "import random\n",
    "\n",
    "true_m = random.random()\n",
    "true_b = random.random()\n",
    "\n",
    "for i in range(10000):\n",
    "    # define input and output\n",
    "    input_data = random.random()\n",
    "    output_data = true_m * input_data + true_b\n",
    "    \n",
    "    # compute loss by running a session\n",
    "    _loss,_=sess.run([loss,train_op],feed_dict={input_placeholder:input_data,output_placeholder:output_data})\n",
    "    \n",
    "    if i % 100 == 0: #print every 100th integer\n",
    "        print(i, _loss)\n",
    "        \n",
    "### print out the values we learning for our two variables\n",
    "print( \"True parameters:     m=%.4f, b=%.4f\" % (true_m, true_b))\n",
    "print (\"Learned parameters:  m=%.4f, b=%.4f\" % tuple(sess.run([m, b])))"
   ]
  },
  {
   "cell_type": "code",
   "execution_count": null,
   "metadata": {},
   "outputs": [],
   "source": []
  }
 ],
 "metadata": {
  "kernelspec": {
   "display_name": "Python 3",
   "language": "python",
   "name": "python3"
  },
  "language_info": {
   "codemirror_mode": {
    "name": "ipython",
    "version": 3
   },
   "file_extension": ".py",
   "mimetype": "text/x-python",
   "name": "python",
   "nbconvert_exporter": "python",
   "pygments_lexer": "ipython3",
   "version": "3.6.5"
  }
 },
 "nbformat": 4,
 "nbformat_minor": 2
}
